{
 "cells": [
  {
   "cell_type": "code",
   "execution_count": 31,
   "metadata": {},
   "outputs": [],
   "source": [
    "import requests\n",
    "import os, hashlib, gzip, struct\n",
    "import numpy as np"
   ]
  },
  {
   "cell_type": "code",
   "execution_count": 4,
   "metadata": {},
   "outputs": [],
   "source": [
    "dat = requests.get('https://google.hu?google.hu')"
   ]
  },
  {
   "cell_type": "code",
   "execution_count": null,
   "metadata": {},
   "outputs": [],
   "source": [
    "dat.content"
   ]
  },
  {
   "cell_type": "code",
   "execution_count": 6,
   "metadata": {},
   "outputs": [],
   "source": [
    "fp = os.path.join('tmp', 'alma')"
   ]
  },
  {
   "cell_type": "code",
   "execution_count": 7,
   "metadata": {},
   "outputs": [
    {
     "data": {
      "text/plain": [
       "'tmp/alma'"
      ]
     },
     "execution_count": 7,
     "metadata": {},
     "output_type": "execute_result"
    }
   ],
   "source": [
    "fp"
   ]
  },
  {
   "cell_type": "code",
   "execution_count": 20,
   "metadata": {},
   "outputs": [],
   "source": [
    "h = hashlib.md5('almé2'.encode('utf-8'))"
   ]
  },
  {
   "cell_type": "code",
   "execution_count": 21,
   "metadata": {},
   "outputs": [
    {
     "data": {
      "text/plain": [
       "'d36d2c773693215db714deb9fcc0f5e5'"
      ]
     },
     "execution_count": 21,
     "metadata": {},
     "output_type": "execute_result"
    }
   ],
   "source": [
    "h.hexdigest()"
   ]
  },
  {
   "cell_type": "code",
   "execution_count": null,
   "metadata": {},
   "outputs": [],
   "source": [
    "with open('fp', 'wb') as f:\n",
    "    f.write(dat.content)\n",
    "\n"
   ]
  },
  {
   "cell_type": "code",
   "execution_count": 22,
   "metadata": {},
   "outputs": [],
   "source": [
    "url = 'http://yann.lecun.com/exdb/mnist/train-images-idx3-ubyte.gz'\n",
    "fp = os.path.join(os.path.sep, 'tmp', hashlib.md5(url.encode('utf-8')).hexdigest())"
   ]
  },
  {
   "cell_type": "code",
   "execution_count": 23,
   "metadata": {},
   "outputs": [
    {
     "data": {
      "text/plain": [
       "'/tmp/23278f029ff68f1e993776e500ce06b9'"
      ]
     },
     "execution_count": 23,
     "metadata": {},
     "output_type": "execute_result"
    }
   ],
   "source": [
    "fp"
   ]
  },
  {
   "cell_type": "code",
   "execution_count": 35,
   "metadata": {},
   "outputs": [],
   "source": [
    "\n",
    "\n",
    "        "
   ]
  },
  {
   "cell_type": "code",
   "execution_count": 36,
   "metadata": {},
   "outputs": [
    {
     "data": {
      "text/plain": [
       "(60000, 28, 28)"
      ]
     },
     "execution_count": 36,
     "metadata": {},
     "output_type": "execute_result"
    }
   ],
   "source": [
    "set.shape"
   ]
  },
  {
   "cell_type": "code",
   "execution_count": null,
   "metadata": {},
   "outputs": [],
   "source": [
    "def createMNIST(url):\n",
    "\n",
    "    fp = os.path.join(os.path.sep, 'tmp', hashlib.md5(url.encode('utf-8')).hexdigest())\n",
    "\n",
    "    if not os.path.isfile(fp):\n",
    "            with open(fp, 'wb') as f:\n",
    "                dat = requests.get(url)\n",
    "                f.write(gzip.decompress(dat.content))\n",
    "\n",
    "    with open(fp, 'rb') as f:\n",
    "\n",
    "            magic, size = struct.unpack('>II', f.read(8))\n",
    "\n",
    "            #images\n",
    "            if magic == 2051:\n",
    "\n",
    "                    nrows, ncols = struct.unpack('>II', f.read(8))\n",
    "                    set = np.fromfile(f, dtype=np.dtype(np.uint8).newbyteorder('>'))\n",
    "                    set = set.reshape(size, nrows, ncols)\n",
    "            #labels\n",
    "            else:\n",
    "                set = np.fromfile(f, dtype=np.dtype(np.uint8).newbyteorder('>'))\n",
    "                set = set.reshape(size, 1)\n",
    "\n",
    "    return set\n",
    "\n",
    "X_train = createMNIST('http://yann.lecun.com/exdb/mnist/train-images-idx3-ubyte.gz')\n",
    "Y_train = createMNIST('http://yann.lecun.com/exdb/mnist/train-labels-idx1-ubyte.gz')\n",
    "\n",
    "X_test = createMNIST('http://yann.lecun.com/exdb/mnist/t10k-images-idx3-ubyte.gz')\n",
    "Y_test = createMNIST('http://yann.lecun.com/exdb/mnist/t10k-labels-idx1-ubyte.gz')"
   ]
  }
 ],
 "metadata": {
  "kernelspec": {
   "display_name": "Python 3.10.4 ('py310')",
   "language": "python",
   "name": "python3"
  },
  "language_info": {
   "codemirror_mode": {
    "name": "ipython",
    "version": 3
   },
   "file_extension": ".py",
   "mimetype": "text/x-python",
   "name": "python",
   "nbconvert_exporter": "python",
   "pygments_lexer": "ipython3",
   "version": "3.10.4"
  },
  "orig_nbformat": 4,
  "vscode": {
   "interpreter": {
    "hash": "27d08036b67cddba83f49deeaddb24363be59cfcda3bb1041d6abfde9933b26a"
   }
  }
 },
 "nbformat": 4,
 "nbformat_minor": 2
}
