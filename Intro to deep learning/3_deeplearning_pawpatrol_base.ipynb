{
  "nbformat": 4,
  "nbformat_minor": 0,
  "metadata": {
    "colab": {
      "name": "3_deeplearning_pawpatrol_base.ipynb",
      "provenance": [],
      "collapsed_sections": []
    },
    "kernelspec": {
      "name": "python3",
      "display_name": "Python 3"
    },
    "language_info": {
      "name": "python"
    }
  },
  "cells": [
    {
      "cell_type": "code",
      "execution_count": null,
      "metadata": {
        "id": "QJBbwXbUNOr2"
      },
      "outputs": [],
      "source": [
        "#hide\n",
        "!pip install -Uqq fastbook\n",
        "import fastbook\n",
        "from fastai.vision.all import *"
      ]
    },
    {
      "cell_type": "markdown",
      "source": [
        "Download images from google\n",
        "\n",
        "https://stackoverflow.com/questions/60987182/trying-to-download-all-of-the-google-search-images-using-javascript\n",
        "\n",
        "```\n",
        "var urls = [];\n",
        "var count = 0;\n",
        "[...document.querySelectorAll('.rg_i')].forEach((element, index) => {\n",
        "   let el = element.parentElement.parentElement;\n",
        "   el.click();\n",
        "   count++;\n",
        "   setTimeout(() => {\n",
        "       let google_url = el.href;\n",
        "\n",
        "       let start = google_url.indexOf('=' , google_url.indexOf('imgurl'))+1;\n",
        "       let encoded = google_url.substring(start, google_url.indexOf('&', start));\n",
        "       let url = decodeURIComponent(encoded);\n",
        "       urls.push(url);\n",
        "       console.log(count);\n",
        "       if(--count == 0) {\n",
        "          let textToSave = urls.join('\\n');\n",
        "          let hiddenElement = document.createElement('a');\n",
        "          hiddenElement.href = 'data:attachment/text,' + encodeURI(textToSave);\n",
        "          hiddenElement.target = '_blank';\n",
        "          hiddenElement.download = 'urls.txt';\n",
        "          hiddenElement.click();\n",
        "       }\n",
        "\n",
        "   }, 50);\n",
        "\n",
        "});\n",
        "```\n"
      ],
      "metadata": {
        "id": "26IrL9XMPsq2"
      }
    }
  ]
}